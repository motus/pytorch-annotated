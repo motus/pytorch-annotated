{
 "cells": [
  {
   "cell_type": "markdown",
   "metadata": {},
   "source": [
    "# PyTorch MNIST example dissected\n",
    "\n",
    "In this notebook we'll explore the components of the\n",
    "[PyTorch MNIST example](https://github.com/pytorch/examples/tree/master/mnist)\n",
    "one-by-one.\n",
    "\n",
    "* Part 1: [Loading the data](1_mnist_load.ipynb)\n",
    "* Part 2: [Model components and forward propagation](2_mnist_model.ipynb)\n",
    "* Part 3: [Autodiff and backpropagation](3_mnist_backprop.ipynb) <-- **you are here**\n",
    "* Part 4: [Training the model](4_mnist_train.ipynb)\n",
    "* Part 5: [Visualizing the results](5_mnist_visualize.ipynb)"
   ]
  },
  {
   "cell_type": "markdown",
   "metadata": {},
   "source": [
    "## 3 Backpropagation\n",
    "\n",
    "Before we start training our model, let's explore the auto-differentiation functionality of PyTorch.\n",
    "\n",
    "In fact, PyTorch has some good [online documentation](https://pytorch.org/docs/stable/notes/autograd.html) on the subject; Below we will focus more on the autograd internals."
   ]
  },
  {
   "cell_type": "code",
   "execution_count": 1,
   "metadata": {},
   "outputs": [],
   "source": [
    "import torch"
   ]
  },
  {
   "cell_type": "markdown",
   "metadata": {},
   "source": [
    "Recall in [Part 2](2_mnist_model.ipynb) parameters of the neural net had a flag `require_grad=True`. It indicates that this tensor will participate in backpropagation:"
   ]
  },
  {
   "cell_type": "code",
   "execution_count": 2,
   "metadata": {},
   "outputs": [
    {
     "name": "stdout",
     "output_type": "stream",
     "text": [
      "z = tensor(200., grad_fn=<ThMulBackward>) requires_grad = True\n"
     ]
    }
   ],
   "source": [
    "x = torch.tensor(10., requires_grad=True)\n",
    "y = torch.tensor(20., requires_grad=True)\n",
    "\n",
    "z = x * y\n",
    "\n",
    "print(\"z =\", z, \"requires_grad =\", z.requires_grad)"
   ]
  },
  {
   "cell_type": "markdown",
   "metadata": {},
   "source": [
    "If at least one operand has `required_grad` flag set, the result will also have `requires_grad=True`. The resulting tensor also has the `grad_fn` property; it holds a link to the operation that produced the tensor.\n",
    "\n",
    "Now we can propagate the gradient back to `x` and `y` using the `.backward()` method:"
   ]
  },
  {
   "cell_type": "code",
   "execution_count": 3,
   "metadata": {},
   "outputs": [],
   "source": [
    "z.backward(torch.tensor(2.))"
   ]
  },
  {
   "cell_type": "markdown",
   "metadata": {},
   "source": [
    "Gradients are stored in the `.grad` field of each tensor:"
   ]
  },
  {
   "cell_type": "code",
   "execution_count": 4,
   "metadata": {},
   "outputs": [
    {
     "data": {
      "text/plain": [
       "(tensor(40.), tensor(20.))"
      ]
     },
     "execution_count": 4,
     "metadata": {},
     "output_type": "execute_result"
    }
   ],
   "source": [
    "x.grad, y.grad"
   ]
  },
  {
   "cell_type": "markdown",
   "metadata": {},
   "source": [
    "No surprises here, as\n",
    "\n",
    "$\\frac{dz}{dx}\\bigr\\rvert_{x=2} = 2y = 40$\n",
    "\n",
    "and\n",
    "\n",
    "$\\frac{dz}{dy}\\bigr\\rvert_{x=2} = 2x = 20$"
   ]
  },
  {
   "cell_type": "markdown",
   "metadata": {},
   "source": [
    "Same applies for matrix operations, e.g."
   ]
  },
  {
   "cell_type": "code",
   "execution_count": 58,
   "metadata": {},
   "outputs": [
    {
     "name": "stdout",
     "output_type": "stream",
     "text": [
      "tensor([[2000., 1700.],\n",
      "        [4800., 4100.]], grad_fn=<MmBackward>)\n",
      "tensor([[220., 160.],\n",
      "        [520., 380.]])\n",
      "tensor([[10000., 14000.],\n",
      "        [14000., 20000.]])\n",
      "None\n"
     ]
    }
   ],
   "source": [
    "a = torch.tensor([[100., 200.], [300., 400.]], requires_grad=True)\n",
    "b = torch.tensor([[8., 7.], [6., 5.]], requires_grad=True)\n",
    "c = torch.eye(2, requires_grad=False) * 3  # <-- Set it to False for a change\n",
    "\n",
    "d = a.matmul(b) #.matmul(c)\n",
    "\n",
    "d.backward(torch.tensor([[10., 20.], [30., 40.]]))\n",
    "\n",
    "print(d)\n",
    "print(a.grad)\n",
    "print(b.grad)\n",
    "print(c.grad)"
   ]
  },
  {
   "cell_type": "markdown",
   "metadata": {},
   "source": [
    "That is, e.g.\n",
    "\n",
    "since $d_{11} = a_{11}b_{11}c_{11} + a_{12}b_{21}c_{11} + a_{11}b_{12}c_{21} + a_{12}b_{22}c_{21}$\n",
    "\n",
    "$\\frac{\\partial d_{11}}{\\partial a_{11}}\\bigr\\rvert_{A=2} = 2b_{11} + 2b_{21} = 30$\n",
    "\n",
    "and\n",
    "\n",
    "$\\frac{\\partial d_{11}}{\\partial b_{11}}\\bigr\\rvert_{A=2} = 2b_{11} + 2b_{21} = 30$\n",
    "\n",
    "\n",
    "Note that `c.grad == None` as we've explicitly turned off the gradient propagation for that tensor."
   ]
  },
  {
   "cell_type": "markdown",
   "metadata": {},
   "source": [
    "PyTorch allows you to do "
   ]
  }
 ],
 "metadata": {
  "kernelspec": {
   "display_name": "Python 3",
   "language": "python",
   "name": "python3"
  },
  "language_info": {
   "codemirror_mode": {
    "name": "ipython",
    "version": 3
   },
   "file_extension": ".py",
   "mimetype": "text/x-python",
   "name": "python",
   "nbconvert_exporter": "python",
   "pygments_lexer": "ipython3",
   "version": "3.6.6"
  }
 },
 "nbformat": 4,
 "nbformat_minor": 2
}
